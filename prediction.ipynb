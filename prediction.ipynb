{
 "cells": [
  {
   "cell_type": "code",
   "execution_count": 1,
   "metadata": {},
   "outputs": [
    {
     "name": "stderr",
     "output_type": "stream",
     "text": [
      "2022-11-03 07:22:31.175372: I tensorflow/core/platform/cpu_feature_guard.cc:193] This TensorFlow binary is optimized with oneAPI Deep Neural Network Library (oneDNN) to use the following CPU instructions in performance-critical operations:  AVX2 FMA\n",
      "To enable them in other operations, rebuild TensorFlow with the appropriate compiler flags.\n"
     ]
    },
    {
     "name": "stdout",
     "output_type": "stream",
     "text": [
      "INFO:tensorflow:Using config: {'_model_dir': './models', '_tf_random_seed': 42, '_save_summary_steps': 100, '_save_checkpoints_steps': 10000, '_save_checkpoints_secs': None, '_session_config': allow_soft_placement: true\n",
      "graph_options {\n",
      "  rewrite_options {\n",
      "    meta_optimizer_iterations: ONE\n",
      "  }\n",
      "}\n",
      ", '_keep_checkpoint_max': 5, '_keep_checkpoint_every_n_hours': 10000, '_log_step_count_steps': 10000, '_train_distribute': None, '_device_fn': None, '_protocol': None, '_eval_distribute': None, '_experimental_distribute': None, '_experimental_max_worker_delay_secs': None, '_session_creation_timeout_secs': 7200, '_checkpoint_save_graph_def': True, '_service': None, '_cluster_spec': ClusterSpec({}), '_task_type': 'worker', '_task_id': 0, '_global_id_in_cluster': 0, '_master': '', '_evaluation_master': '', '_is_chief': True, '_num_ps_replicas': 0, '_num_worker_replicas': 1}\n",
      "WARNING:tensorflow:From /Users/kwontaekhyun/Library/CloudStorage/OneDrive-postech.ac.kr/2022-가을학기/과제연구2/W&D_ML_RecSys/venv/lib/python3.9/site-packages/tensorflow/python/training/training_util.py:396: Variable.initialized_value (from tensorflow.python.ops.variables) is deprecated and will be removed in a future version.\n",
      "Instructions for updating:\n",
      "Use Variable.read_value. Variables in 2.X are initialized automatically both in eager and graph (inside tf.defun) contexts.\n",
      "INFO:tensorflow:Calling model_fn.\n",
      "WARNING:tensorflow:From /Users/kwontaekhyun/Library/CloudStorage/OneDrive-postech.ac.kr/2022-가을학기/과제연구2/W&D_ML_RecSys/venv/lib/python3.9/site-packages/keras/layers/normalization/batch_normalization.py:562: _colocate_with (from tensorflow.python.framework.ops) is deprecated and will be removed in a future version.\n",
      "Instructions for updating:\n",
      "Colocations handled automatically by placer.\n",
      "WARNING:tensorflow:From /Users/kwontaekhyun/Library/CloudStorage/OneDrive-postech.ac.kr/2022-가을학기/과제연구2/W&D_ML_RecSys/venv/lib/python3.9/site-packages/tensorflow/python/training/adagrad.py:138: calling Constant.__init__ (from tensorflow.python.ops.init_ops) with dtype is deprecated and will be removed in a future version.\n",
      "Instructions for updating:\n",
      "Call initializer instance with the dtype argument instead of passing it to the constructor\n",
      "INFO:tensorflow:Done calling model_fn.\n",
      "INFO:tensorflow:Create CheckpointSaverHook.\n",
      "INFO:tensorflow:Graph was finalized.\n",
      "INFO:tensorflow:Restoring parameters from ./models/model.ckpt-50000\n",
      "WARNING:tensorflow:From /Users/kwontaekhyun/Library/CloudStorage/OneDrive-postech.ac.kr/2022-가을학기/과제연구2/W&D_ML_RecSys/venv/lib/python3.9/site-packages/tensorflow/python/training/saver.py:1173: get_checkpoint_mtimes (from tensorflow.python.checkpoint.checkpoint_management) is deprecated and will be removed in a future version.\n",
      "Instructions for updating:\n",
      "Use standard file utilities to get mtimes.\n"
     ]
    },
    {
     "name": "stderr",
     "output_type": "stream",
     "text": [
      "2022-11-03 07:22:53.159155: I tensorflow/core/platform/cpu_feature_guard.cc:193] This TensorFlow binary is optimized with oneAPI Deep Neural Network Library (oneDNN) to use the following CPU instructions in performance-critical operations:  AVX2 FMA\n",
      "To enable them in other operations, rebuild TensorFlow with the appropriate compiler flags.\n",
      "2022-11-03 07:22:53.194728: I tensorflow/compiler/mlir/mlir_graph_optimization_pass.cc:354] MLIR V1 optimization pass is not enabled\n",
      "2022-11-03 07:22:53.215314: W tensorflow/core/common_runtime/forward_type_inference.cc:332] Type inference failed. This indicates an invalid graph that escaped type checking. Error message: INVALID_ARGUMENT: expected compatible input types, but input 1:\n",
      "type_id: TFT_OPTIONAL\n",
      "args {\n",
      "  type_id: TFT_PRODUCT\n",
      "  args {\n",
      "    type_id: TFT_TENSOR\n",
      "    args {\n",
      "      type_id: TFT_INT64\n",
      "    }\n",
      "  }\n",
      "}\n",
      " is neither a subtype nor a supertype of the combined inputs preceding it:\n",
      "type_id: TFT_OPTIONAL\n",
      "args {\n",
      "  type_id: TFT_PRODUCT\n",
      "  args {\n",
      "    type_id: TFT_TENSOR\n",
      "    args {\n",
      "      type_id: TFT_INT32\n",
      "    }\n",
      "  }\n",
      "}\n",
      "\n",
      "\twhile inferring type of node 'dnn/zero_fraction/cond/output/_18'\n"
     ]
    },
    {
     "name": "stdout",
     "output_type": "stream",
     "text": [
      "INFO:tensorflow:Running local_init_op.\n",
      "INFO:tensorflow:Done running local_init_op.\n",
      "INFO:tensorflow:Calling checkpoint listeners before saving checkpoint 50000...\n",
      "INFO:tensorflow:Saving checkpoints for 50000 into ./models/model.ckpt.\n",
      "INFO:tensorflow:Calling checkpoint listeners after saving checkpoint 50000...\n",
      "INFO:tensorflow:loss = 4.9693046, step = 50000\n",
      "INFO:tensorflow:Calling checkpoint listeners before saving checkpoint 60000...\n",
      "INFO:tensorflow:Saving checkpoints for 60000 into ./models/model.ckpt.\n",
      "WARNING:tensorflow:From /Users/kwontaekhyun/Library/CloudStorage/OneDrive-postech.ac.kr/2022-가을학기/과제연구2/W&D_ML_RecSys/venv/lib/python3.9/site-packages/tensorflow/python/training/saver.py:1064: remove_checkpoint (from tensorflow.python.checkpoint.checkpoint_management) is deprecated and will be removed in a future version.\n",
      "Instructions for updating:\n",
      "Use standard file APIs to delete files with this prefix.\n",
      "INFO:tensorflow:Calling checkpoint listeners after saving checkpoint 60000...\n",
      "INFO:tensorflow:global_step/sec: 393.48\n",
      "INFO:tensorflow:loss = 11.342926, step = 60000 (25.415 sec)\n",
      "INFO:tensorflow:Calling checkpoint listeners before saving checkpoint 70000...\n",
      "INFO:tensorflow:Saving checkpoints for 70000 into ./models/model.ckpt.\n",
      "INFO:tensorflow:Calling checkpoint listeners after saving checkpoint 70000...\n",
      "INFO:tensorflow:global_step/sec: 323.176\n",
      "INFO:tensorflow:loss = 9.2873, step = 70000 (30.943 sec)\n",
      "INFO:tensorflow:Calling checkpoint listeners before saving checkpoint 80000...\n",
      "INFO:tensorflow:Saving checkpoints for 80000 into ./models/model.ckpt.\n",
      "INFO:tensorflow:Calling checkpoint listeners after saving checkpoint 80000...\n",
      "INFO:tensorflow:global_step/sec: 364.095\n",
      "INFO:tensorflow:loss = 13.439346, step = 80000 (27.465 sec)\n",
      "INFO:tensorflow:Calling checkpoint listeners before saving checkpoint 90000...\n",
      "INFO:tensorflow:Saving checkpoints for 90000 into ./models/model.ckpt.\n",
      "INFO:tensorflow:Calling checkpoint listeners after saving checkpoint 90000...\n",
      "INFO:tensorflow:global_step/sec: 346.927\n",
      "INFO:tensorflow:loss = 12.217603, step = 90000 (28.825 sec)\n",
      "INFO:tensorflow:Calling checkpoint listeners before saving checkpoint 100000...\n",
      "INFO:tensorflow:Saving checkpoints for 100000 into ./models/model.ckpt.\n",
      "INFO:tensorflow:Calling checkpoint listeners after saving checkpoint 100000...\n",
      "INFO:tensorflow:Loss for final step: 13.151881.\n",
      "INFO:tensorflow:Calling model_fn.\n",
      "INFO:tensorflow:Done calling model_fn.\n",
      "INFO:tensorflow:Graph was finalized.\n",
      "INFO:tensorflow:Restoring parameters from ./models/model.ckpt-100000\n",
      "INFO:tensorflow:Running local_init_op.\n",
      "INFO:tensorflow:Done running local_init_op.\n"
     ]
    },
    {
     "data": {
      "application/scrapbook.scrap.json+json": {
       "data": 0.9082596949693508,
       "encoder": "json",
       "name": "rmse",
       "version": 1
      }
     },
     "metadata": {
      "scrapbook": {
       "data": true,
       "display": false,
       "name": "rmse"
      }
     },
     "output_type": "display_data"
    },
    {
     "data": {
      "application/scrapbook.scrap.json+json": {
       "data": 0.7190078261365894,
       "encoder": "json",
       "name": "mae",
       "version": 1
      }
     },
     "metadata": {
      "scrapbook": {
       "data": true,
       "display": false,
       "name": "mae"
      }
     },
     "output_type": "display_data"
    },
    {
     "name": "stdout",
     "output_type": "stream",
     "text": [
      "{'rmse': 0.9082596949693508, 'mae': 0.7190078261365894}\n",
      "42209                            American History X (1998)\n",
      "25141    Raiders of the Lost Ark (Indiana Jones and the...\n",
      "23240                                Reservoir Dogs (1992)\n",
      "96777                                  Interstellar (2014)\n",
      "60764                                       Memento (2000)\n",
      "83085                     Pursuit of Happyness, The (2006)\n",
      "97677                                    Ex Machina (2015)\n",
      "58460                           Requiem for a Dream (2000)\n",
      "96404                      Wolf of Wall Street, The (2013)\n",
      "35325                             Big Lebowski, The (1998)\n",
      "Name: itemID, dtype: object\n"
     ]
    }
   ],
   "source": [
    "import recsys"
   ]
  },
  {
   "cell_type": "code",
   "execution_count": 2,
   "metadata": {},
   "outputs": [
    {
     "name": "stdout",
     "output_type": "stream",
     "text": [
      "42209                            American History X (1998)\n",
      "25141    Raiders of the Lost Ark (Indiana Jones and the...\n",
      "23240                                Reservoir Dogs (1992)\n",
      "96777                                  Interstellar (2014)\n",
      "60764                                       Memento (2000)\n",
      "83085                     Pursuit of Happyness, The (2006)\n",
      "97677                                    Ex Machina (2015)\n",
      "58460                           Requiem for a Dream (2000)\n",
      "96404                      Wolf of Wall Street, The (2013)\n",
      "35325                             Big Lebowski, The (1998)\n",
      "Name: itemID, dtype: object\n"
     ]
    }
   ],
   "source": [
    "print(recsys.predict_movies)\n"
   ]
  },
  {
   "cell_type": "code",
   "execution_count": 4,
   "metadata": {},
   "outputs": [
    {
     "name": "stdout",
     "output_type": "stream",
     "text": [
      "INFO:tensorflow:Calling model_fn.\n",
      "INFO:tensorflow:Done calling model_fn.\n",
      "INFO:tensorflow:Graph was finalized.\n",
      "INFO:tensorflow:Restoring parameters from ./models/model.ckpt-100000\n",
      "INFO:tensorflow:Running local_init_op.\n",
      "INFO:tensorflow:Done running local_init_op.\n"
     ]
    },
    {
     "data": {
      "application/scrapbook.scrap.json+json": {
       "data": 0.9082596949693508,
       "encoder": "json",
       "name": "rmse",
       "version": 1
      }
     },
     "metadata": {
      "scrapbook": {
       "data": true,
       "display": false,
       "name": "rmse"
      }
     },
     "output_type": "display_data"
    },
    {
     "data": {
      "application/scrapbook.scrap.json+json": {
       "data": 0.7190078261365894,
       "encoder": "json",
       "name": "mae",
       "version": 1
      }
     },
     "metadata": {
      "scrapbook": {
       "data": true,
       "display": false,
       "name": "mae"
      }
     },
     "output_type": "display_data"
    },
    {
     "name": "stdout",
     "output_type": "stream",
     "text": [
      "{'rmse': 0.9082596949693508, 'mae': 0.7190078261365894}\n"
     ]
    }
   ],
   "source": [
    "if len(recsys.RATING_METRICS) > 0:\n",
    "    predictions = list(recsys.model.predict(\n",
    "        input_fn=recsys.tf_utils.pandas_input_fn(df=recsys.test)))\n",
    "    prediction_df = recsys.test.drop(recsys.RATING_COL, axis=1)\n",
    "    prediction_df[recsys.PREDICT_COL] = [p['predictions'][0]\n",
    "                                         for p in predictions]\n",
    "\n",
    "    rating_results = {}\n",
    "    for m in recsys.RATING_METRICS:\n",
    "        result = recsys.evaluator.metrics[m](\n",
    "            recsys.test, prediction_df, **recsys.cols)\n",
    "        recsys.sb.glue(m, result)\n",
    "        rating_results[m] = result\n",
    "    print(rating_results)\n"
   ]
  },
  {
   "cell_type": "code",
   "execution_count": 7,
   "metadata": {},
   "outputs": [
    {
     "name": "stdout",
     "output_type": "stream",
     "text": [
      "8771                      Shawshank Redemption, The (1994)\n",
      "74670         Eternal Sunshine of the Spotless Mind (2004)\n",
      "53248                          Boondock Saints, The (2000)\n",
      "73923    Lord of the Rings: The Return of the King, The...\n",
      "42163                            American History X (1998)\n",
      "77210                             Shaun of the Dead (2004)\n",
      "83543                                 Departed, The (2006)\n",
      "91897                                    Jackass 3D (2010)\n",
      "24728    Star Wars: Episode V - The Empire Strikes Back...\n",
      "60711                                       Memento (2000)\n",
      "Name: itemID, dtype: object\n"
     ]
    }
   ],
   "source": [
    "predict_movies = prediction_df[prediction_df['userID'] == 232].sort_values(\n",
    "    by=['prediction'], ascending=False).iloc[0:10]['itemID'].apply(lambda x: recsys.movie_dict[x]['title'])\n",
    "\n",
    "print(predict_movies)\n"
   ]
  }
 ],
 "metadata": {
  "kernelspec": {
   "display_name": "Python 3.9.12 ('venv': venv)",
   "language": "python",
   "name": "python3"
  },
  "language_info": {
   "codemirror_mode": {
    "name": "ipython",
    "version": 3
   },
   "file_extension": ".py",
   "mimetype": "text/x-python",
   "name": "python",
   "nbconvert_exporter": "python",
   "pygments_lexer": "ipython3",
   "version": "3.9.12"
  },
  "orig_nbformat": 4,
  "vscode": {
   "interpreter": {
    "hash": "defd55efb278b336ad911ffe81aba3e0b0d5bb16fb3d1c4006aa169402e5bb71"
   }
  }
 },
 "nbformat": 4,
 "nbformat_minor": 2
}
